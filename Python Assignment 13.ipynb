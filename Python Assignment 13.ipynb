{
 "cells": [
  {
   "cell_type": "code",
   "execution_count": null,
   "id": "778232e9-006d-404a-a1a4-e4b718e6259c",
   "metadata": {},
   "outputs": [],
   "source": [
    "#1. What advantages do Excel spreadsheets have over CSV spreadsheets?\n",
    "\n",
    "Ans. In Excel, spreadsheets can have values of datatypes other than strings; cells can have different fonts, sizes, or color settings; cells can have varying widths and heights; adjecent cells can be merged; and we can embed images and charts.\n"
   ]
  },
  {
   "cell_type": "code",
   "execution_count": null,
   "id": "efdc3f02-5645-44b2-a57a-f2c85e4aadcc",
   "metadata": {},
   "outputs": [],
   "source": [
    "#2. What do you pass to csv.reader() and csv.writer() to create reader and writer objects?\n",
    "\n",
    "Ans. We pass a file object, obtained from call to open().\n"
   ]
  },
  {
   "cell_type": "code",
   "execution_count": null,
   "id": "398e896b-4d7f-403d-809f-5c3ad031e8f7",
   "metadata": {},
   "outputs": [],
   "source": [
    "#3. What modes do File objects for reader and writer objects need to be opened in?\n",
    "\n",
    "Ans. File objects need to be opened in read-binary ('rb') for reader objects and write-binary ('wb') fro writer objects."
   ]
  },
  {
   "cell_type": "code",
   "execution_count": null,
   "id": "060a7913-2223-44de-b175-232b9190f6e8",
   "metadata": {},
   "outputs": [],
   "source": [
    "#4. What method takes a list argument and writes it to a CSV file?\n",
    "\n",
    "Ans. The writerrow() method."
   ]
  },
  {
   "cell_type": "code",
   "execution_count": null,
   "id": "6402e59b-174c-466a-80a0-1b8d966f35d4",
   "metadata": {},
   "outputs": [],
   "source": [
    "#5. What do the keyword arguments delimiter and line terminator do?\n",
    "\n",
    "Ans. The delimeter argument change the string used to separate cells in a row. \n",
    "The lineterminator argument changes the string used to separate rows.\n"
   ]
  },
  {
   "cell_type": "code",
   "execution_count": null,
   "id": "42693e76-9d06-4005-869a-ef7820647580",
   "metadata": {},
   "outputs": [],
   "source": [
    "#6. What function takes a string of JSON data and returns a Python data structure?\n",
    "\n",
    "Ans. json.loads()"
   ]
  },
  {
   "cell_type": "code",
   "execution_count": null,
   "id": "575a594c-eeb4-4f5e-a4d2-8b7a46bf50b9",
   "metadata": {},
   "outputs": [],
   "source": [
    "#7. What function takes a Python data structure and returns a string of JSON data?\n",
    "\n",
    "Ans. json.dumps()"
   ]
  }
 ],
 "metadata": {
  "kernelspec": {
   "display_name": "Python 3 (ipykernel)",
   "language": "python",
   "name": "python3"
  },
  "language_info": {
   "codemirror_mode": {
    "name": "ipython",
    "version": 3
   },
   "file_extension": ".py",
   "mimetype": "text/x-python",
   "name": "python",
   "nbconvert_exporter": "python",
   "pygments_lexer": "ipython3",
   "version": "3.10.6"
  }
 },
 "nbformat": 4,
 "nbformat_minor": 5
}
